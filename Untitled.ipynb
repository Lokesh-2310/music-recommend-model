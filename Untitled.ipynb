{
 "cells": [
  {
   "cell_type": "code",
   "execution_count": 58,
   "id": "5f05f33c",
   "metadata": {},
   "outputs": [],
   "source": [
    "import pandas as pd\n",
    "import numpy as np\n",
    "import seaborn as sns\n",
    "import matplotlib.pyplot as plt"
   ]
  },
  {
   "cell_type": "code",
   "execution_count": 59,
   "id": "73153222",
   "metadata": {},
   "outputs": [],
   "source": [
    "df=pd.read_csv(\"spotify_millsongdata.csv\")"
   ]
  },
  {
   "cell_type": "code",
   "execution_count": 60,
   "id": "3b6c8280",
   "metadata": {},
   "outputs": [
    {
     "data": {
      "text/html": [
       "<div>\n",
       "<style scoped>\n",
       "    .dataframe tbody tr th:only-of-type {\n",
       "        vertical-align: middle;\n",
       "    }\n",
       "\n",
       "    .dataframe tbody tr th {\n",
       "        vertical-align: top;\n",
       "    }\n",
       "\n",
       "    .dataframe thead th {\n",
       "        text-align: right;\n",
       "    }\n",
       "</style>\n",
       "<table border=\"1\" class=\"dataframe\">\n",
       "  <thead>\n",
       "    <tr style=\"text-align: right;\">\n",
       "      <th></th>\n",
       "      <th>artist</th>\n",
       "      <th>song</th>\n",
       "      <th>link</th>\n",
       "      <th>text</th>\n",
       "    </tr>\n",
       "  </thead>\n",
       "  <tbody>\n",
       "    <tr>\n",
       "      <th>0</th>\n",
       "      <td>ABBA</td>\n",
       "      <td>Ahe's My Kind Of Girl</td>\n",
       "      <td>/a/abba/ahes+my+kind+of+girl_20598417.html</td>\n",
       "      <td>Look at her face, it's a wonderful face  \\r\\nA...</td>\n",
       "    </tr>\n",
       "    <tr>\n",
       "      <th>1</th>\n",
       "      <td>ABBA</td>\n",
       "      <td>Andante, Andante</td>\n",
       "      <td>/a/abba/andante+andante_20002708.html</td>\n",
       "      <td>Take it easy with me, please  \\r\\nTouch me gen...</td>\n",
       "    </tr>\n",
       "    <tr>\n",
       "      <th>2</th>\n",
       "      <td>ABBA</td>\n",
       "      <td>As Good As New</td>\n",
       "      <td>/a/abba/as+good+as+new_20003033.html</td>\n",
       "      <td>I'll never know why I had to go  \\r\\nWhy I had...</td>\n",
       "    </tr>\n",
       "    <tr>\n",
       "      <th>3</th>\n",
       "      <td>ABBA</td>\n",
       "      <td>Bang</td>\n",
       "      <td>/a/abba/bang_20598415.html</td>\n",
       "      <td>Making somebody happy is a question of give an...</td>\n",
       "    </tr>\n",
       "    <tr>\n",
       "      <th>4</th>\n",
       "      <td>ABBA</td>\n",
       "      <td>Bang-A-Boomerang</td>\n",
       "      <td>/a/abba/bang+a+boomerang_20002668.html</td>\n",
       "      <td>Making somebody happy is a question of give an...</td>\n",
       "    </tr>\n",
       "  </tbody>\n",
       "</table>\n",
       "</div>"
      ],
      "text/plain": [
       "  artist                   song                                        link   \n",
       "0   ABBA  Ahe's My Kind Of Girl  /a/abba/ahes+my+kind+of+girl_20598417.html  \\\n",
       "1   ABBA       Andante, Andante       /a/abba/andante+andante_20002708.html   \n",
       "2   ABBA         As Good As New        /a/abba/as+good+as+new_20003033.html   \n",
       "3   ABBA                   Bang                  /a/abba/bang_20598415.html   \n",
       "4   ABBA       Bang-A-Boomerang      /a/abba/bang+a+boomerang_20002668.html   \n",
       "\n",
       "                                                text  \n",
       "0  Look at her face, it's a wonderful face  \\r\\nA...  \n",
       "1  Take it easy with me, please  \\r\\nTouch me gen...  \n",
       "2  I'll never know why I had to go  \\r\\nWhy I had...  \n",
       "3  Making somebody happy is a question of give an...  \n",
       "4  Making somebody happy is a question of give an...  "
      ]
     },
     "execution_count": 60,
     "metadata": {},
     "output_type": "execute_result"
    }
   ],
   "source": [
    "df.head()"
   ]
  },
  {
   "cell_type": "code",
   "execution_count": 61,
   "id": "bc145e6c",
   "metadata": {},
   "outputs": [
    {
     "data": {
      "text/html": [
       "<div>\n",
       "<style scoped>\n",
       "    .dataframe tbody tr th:only-of-type {\n",
       "        vertical-align: middle;\n",
       "    }\n",
       "\n",
       "    .dataframe tbody tr th {\n",
       "        vertical-align: top;\n",
       "    }\n",
       "\n",
       "    .dataframe thead th {\n",
       "        text-align: right;\n",
       "    }\n",
       "</style>\n",
       "<table border=\"1\" class=\"dataframe\">\n",
       "  <thead>\n",
       "    <tr style=\"text-align: right;\">\n",
       "      <th></th>\n",
       "      <th>artist</th>\n",
       "      <th>song</th>\n",
       "      <th>link</th>\n",
       "      <th>text</th>\n",
       "    </tr>\n",
       "  </thead>\n",
       "  <tbody>\n",
       "    <tr>\n",
       "      <th>57645</th>\n",
       "      <td>Ziggy Marley</td>\n",
       "      <td>Good Old Days</td>\n",
       "      <td>/z/ziggy+marley/good+old+days_10198588.html</td>\n",
       "      <td>Irie days come on play  \\r\\nLet the angels fly...</td>\n",
       "    </tr>\n",
       "    <tr>\n",
       "      <th>57646</th>\n",
       "      <td>Ziggy Marley</td>\n",
       "      <td>Hand To Mouth</td>\n",
       "      <td>/z/ziggy+marley/hand+to+mouth_20531167.html</td>\n",
       "      <td>Power to the workers  \\r\\nMore power  \\r\\nPowe...</td>\n",
       "    </tr>\n",
       "    <tr>\n",
       "      <th>57647</th>\n",
       "      <td>Zwan</td>\n",
       "      <td>Come With Me</td>\n",
       "      <td>/z/zwan/come+with+me_20148981.html</td>\n",
       "      <td>all you need  \\r\\nis something i'll believe  \\...</td>\n",
       "    </tr>\n",
       "    <tr>\n",
       "      <th>57648</th>\n",
       "      <td>Zwan</td>\n",
       "      <td>Desire</td>\n",
       "      <td>/z/zwan/desire_20148986.html</td>\n",
       "      <td>northern star  \\r\\nam i frightened  \\r\\nwhere ...</td>\n",
       "    </tr>\n",
       "    <tr>\n",
       "      <th>57649</th>\n",
       "      <td>Zwan</td>\n",
       "      <td>Heartsong</td>\n",
       "      <td>/z/zwan/heartsong_20148991.html</td>\n",
       "      <td>come in  \\r\\nmake yourself at home  \\r\\ni'm a ...</td>\n",
       "    </tr>\n",
       "  </tbody>\n",
       "</table>\n",
       "</div>"
      ],
      "text/plain": [
       "             artist           song   \n",
       "57645  Ziggy Marley  Good Old Days  \\\n",
       "57646  Ziggy Marley  Hand To Mouth   \n",
       "57647          Zwan   Come With Me   \n",
       "57648          Zwan         Desire   \n",
       "57649          Zwan      Heartsong   \n",
       "\n",
       "                                              link   \n",
       "57645  /z/ziggy+marley/good+old+days_10198588.html  \\\n",
       "57646  /z/ziggy+marley/hand+to+mouth_20531167.html   \n",
       "57647           /z/zwan/come+with+me_20148981.html   \n",
       "57648                 /z/zwan/desire_20148986.html   \n",
       "57649              /z/zwan/heartsong_20148991.html   \n",
       "\n",
       "                                                    text  \n",
       "57645  Irie days come on play  \\r\\nLet the angels fly...  \n",
       "57646  Power to the workers  \\r\\nMore power  \\r\\nPowe...  \n",
       "57647  all you need  \\r\\nis something i'll believe  \\...  \n",
       "57648  northern star  \\r\\nam i frightened  \\r\\nwhere ...  \n",
       "57649  come in  \\r\\nmake yourself at home  \\r\\ni'm a ...  "
      ]
     },
     "execution_count": 61,
     "metadata": {},
     "output_type": "execute_result"
    }
   ],
   "source": [
    "df.tail()"
   ]
  },
  {
   "cell_type": "code",
   "execution_count": 62,
   "id": "0e0a9b5b",
   "metadata": {},
   "outputs": [
    {
     "data": {
      "text/plain": [
       "(57650, 4)"
      ]
     },
     "execution_count": 62,
     "metadata": {},
     "output_type": "execute_result"
    }
   ],
   "source": [
    "df.shape"
   ]
  },
  {
   "cell_type": "code",
   "execution_count": 63,
   "id": "6740d570",
   "metadata": {},
   "outputs": [
    {
     "data": {
      "text/plain": [
       "artist    0\n",
       "song      0\n",
       "link      0\n",
       "text      0\n",
       "dtype: int64"
      ]
     },
     "execution_count": 63,
     "metadata": {},
     "output_type": "execute_result"
    }
   ],
   "source": [
    "df.isnull().sum()"
   ]
  },
  {
   "cell_type": "code",
   "execution_count": 64,
   "id": "31bbd270",
   "metadata": {},
   "outputs": [
    {
     "data": {
      "text/html": [
       "<div>\n",
       "<style scoped>\n",
       "    .dataframe tbody tr th:only-of-type {\n",
       "        vertical-align: middle;\n",
       "    }\n",
       "\n",
       "    .dataframe tbody tr th {\n",
       "        vertical-align: top;\n",
       "    }\n",
       "\n",
       "    .dataframe thead th {\n",
       "        text-align: right;\n",
       "    }\n",
       "</style>\n",
       "<table border=\"1\" class=\"dataframe\">\n",
       "  <thead>\n",
       "    <tr style=\"text-align: right;\">\n",
       "      <th></th>\n",
       "      <th>artist</th>\n",
       "      <th>song</th>\n",
       "      <th>text</th>\n",
       "    </tr>\n",
       "  </thead>\n",
       "  <tbody>\n",
       "    <tr>\n",
       "      <th>0</th>\n",
       "      <td>ABBA</td>\n",
       "      <td>Ahe's My Kind Of Girl</td>\n",
       "      <td>Look at her face, it's a wonderful face  \\r\\nA...</td>\n",
       "    </tr>\n",
       "    <tr>\n",
       "      <th>1</th>\n",
       "      <td>ABBA</td>\n",
       "      <td>Andante, Andante</td>\n",
       "      <td>Take it easy with me, please  \\r\\nTouch me gen...</td>\n",
       "    </tr>\n",
       "    <tr>\n",
       "      <th>2</th>\n",
       "      <td>ABBA</td>\n",
       "      <td>As Good As New</td>\n",
       "      <td>I'll never know why I had to go  \\r\\nWhy I had...</td>\n",
       "    </tr>\n",
       "    <tr>\n",
       "      <th>3</th>\n",
       "      <td>ABBA</td>\n",
       "      <td>Bang</td>\n",
       "      <td>Making somebody happy is a question of give an...</td>\n",
       "    </tr>\n",
       "    <tr>\n",
       "      <th>4</th>\n",
       "      <td>ABBA</td>\n",
       "      <td>Bang-A-Boomerang</td>\n",
       "      <td>Making somebody happy is a question of give an...</td>\n",
       "    </tr>\n",
       "  </tbody>\n",
       "</table>\n",
       "</div>"
      ],
      "text/plain": [
       "  artist                   song   \n",
       "0   ABBA  Ahe's My Kind Of Girl  \\\n",
       "1   ABBA       Andante, Andante   \n",
       "2   ABBA         As Good As New   \n",
       "3   ABBA                   Bang   \n",
       "4   ABBA       Bang-A-Boomerang   \n",
       "\n",
       "                                                text  \n",
       "0  Look at her face, it's a wonderful face  \\r\\nA...  \n",
       "1  Take it easy with me, please  \\r\\nTouch me gen...  \n",
       "2  I'll never know why I had to go  \\r\\nWhy I had...  \n",
       "3  Making somebody happy is a question of give an...  \n",
       "4  Making somebody happy is a question of give an...  "
      ]
     },
     "execution_count": 64,
     "metadata": {},
     "output_type": "execute_result"
    }
   ],
   "source": [
    "df=df.drop(columns='link')\n",
    "df.head()"
   ]
  },
  {
   "cell_type": "code",
   "execution_count": 65,
   "id": "c864ffcb",
   "metadata": {},
   "outputs": [
    {
     "data": {
      "text/plain": [
       "0"
      ]
     },
     "execution_count": 65,
     "metadata": {},
     "output_type": "execute_result"
    }
   ],
   "source": [
    "df.duplicated().sum()"
   ]
  },
  {
   "cell_type": "code",
   "execution_count": 66,
   "id": "666f9236",
   "metadata": {},
   "outputs": [
    {
     "data": {
      "text/html": [
       "<div>\n",
       "<style scoped>\n",
       "    .dataframe tbody tr th:only-of-type {\n",
       "        vertical-align: middle;\n",
       "    }\n",
       "\n",
       "    .dataframe tbody tr th {\n",
       "        vertical-align: top;\n",
       "    }\n",
       "\n",
       "    .dataframe thead th {\n",
       "        text-align: right;\n",
       "    }\n",
       "</style>\n",
       "<table border=\"1\" class=\"dataframe\">\n",
       "  <thead>\n",
       "    <tr style=\"text-align: right;\">\n",
       "      <th></th>\n",
       "      <th>artist</th>\n",
       "      <th>song</th>\n",
       "      <th>text</th>\n",
       "    </tr>\n",
       "  </thead>\n",
       "  <tbody>\n",
       "    <tr>\n",
       "      <th>503</th>\n",
       "      <td>Alice Cooper</td>\n",
       "      <td>I Miss You</td>\n",
       "      <td>Touched by thoughts  \\r\\nAs cold as ice  \\r\\nL...</td>\n",
       "    </tr>\n",
       "    <tr>\n",
       "      <th>505</th>\n",
       "      <td>Alice Cooper</td>\n",
       "      <td>I'm Alive</td>\n",
       "      <td>I was just kicking down the street  \\r\\nAnd th...</td>\n",
       "    </tr>\n",
       "    <tr>\n",
       "      <th>535</th>\n",
       "      <td>Alice In Chains</td>\n",
       "      <td>Sunshine</td>\n",
       "      <td>One, a-one time, yeah  \\r\\n  \\r\\nAm I too cont...</td>\n",
       "    </tr>\n",
       "    <tr>\n",
       "      <th>614</th>\n",
       "      <td>Alphaville</td>\n",
       "      <td>Headlines</td>\n",
       "      <td>We call ourselves the crown of creation  \\r\\nI...</td>\n",
       "    </tr>\n",
       "    <tr>\n",
       "      <th>659</th>\n",
       "      <td>America</td>\n",
       "      <td>Goodbye</td>\n",
       "      <td>Goodbye, Mrs. Sorrow  \\r\\nHope you're feeling ...</td>\n",
       "    </tr>\n",
       "    <tr>\n",
       "      <th>...</th>\n",
       "      <td>...</td>\n",
       "      <td>...</td>\n",
       "      <td>...</td>\n",
       "    </tr>\n",
       "    <tr>\n",
       "      <th>57645</th>\n",
       "      <td>Ziggy Marley</td>\n",
       "      <td>Good Old Days</td>\n",
       "      <td>Irie days come on play  \\r\\nLet the angels fly...</td>\n",
       "    </tr>\n",
       "    <tr>\n",
       "      <th>57646</th>\n",
       "      <td>Ziggy Marley</td>\n",
       "      <td>Hand To Mouth</td>\n",
       "      <td>Power to the workers  \\r\\nMore power  \\r\\nPowe...</td>\n",
       "    </tr>\n",
       "    <tr>\n",
       "      <th>57647</th>\n",
       "      <td>Zwan</td>\n",
       "      <td>Come With Me</td>\n",
       "      <td>all you need  \\r\\nis something i'll believe  \\...</td>\n",
       "    </tr>\n",
       "    <tr>\n",
       "      <th>57648</th>\n",
       "      <td>Zwan</td>\n",
       "      <td>Desire</td>\n",
       "      <td>northern star  \\r\\nam i frightened  \\r\\nwhere ...</td>\n",
       "    </tr>\n",
       "    <tr>\n",
       "      <th>57649</th>\n",
       "      <td>Zwan</td>\n",
       "      <td>Heartsong</td>\n",
       "      <td>come in  \\r\\nmake yourself at home  \\r\\ni'm a ...</td>\n",
       "    </tr>\n",
       "  </tbody>\n",
       "</table>\n",
       "<p>12826 rows × 3 columns</p>\n",
       "</div>"
      ],
      "text/plain": [
       "                artist           song   \n",
       "503       Alice Cooper     I Miss You  \\\n",
       "505       Alice Cooper      I'm Alive   \n",
       "535    Alice In Chains       Sunshine   \n",
       "614         Alphaville      Headlines   \n",
       "659            America        Goodbye   \n",
       "...                ...            ...   \n",
       "57645     Ziggy Marley  Good Old Days   \n",
       "57646     Ziggy Marley  Hand To Mouth   \n",
       "57647             Zwan   Come With Me   \n",
       "57648             Zwan         Desire   \n",
       "57649             Zwan      Heartsong   \n",
       "\n",
       "                                                    text  \n",
       "503    Touched by thoughts  \\r\\nAs cold as ice  \\r\\nL...  \n",
       "505    I was just kicking down the street  \\r\\nAnd th...  \n",
       "535    One, a-one time, yeah  \\r\\n  \\r\\nAm I too cont...  \n",
       "614    We call ourselves the crown of creation  \\r\\nI...  \n",
       "659    Goodbye, Mrs. Sorrow  \\r\\nHope you're feeling ...  \n",
       "...                                                  ...  \n",
       "57645  Irie days come on play  \\r\\nLet the angels fly...  \n",
       "57646  Power to the workers  \\r\\nMore power  \\r\\nPowe...  \n",
       "57647  all you need  \\r\\nis something i'll believe  \\...  \n",
       "57648  northern star  \\r\\nam i frightened  \\r\\nwhere ...  \n",
       "57649  come in  \\r\\nmake yourself at home  \\r\\ni'm a ...  \n",
       "\n",
       "[12826 rows x 3 columns]"
      ]
     },
     "execution_count": 66,
     "metadata": {},
     "output_type": "execute_result"
    }
   ],
   "source": [
    "df[df.duplicated(subset=['song'])]"
   ]
  },
  {
   "cell_type": "code",
   "execution_count": 67,
   "id": "ffe01da1",
   "metadata": {},
   "outputs": [
    {
     "data": {
      "text/html": [
       "<div>\n",
       "<style scoped>\n",
       "    .dataframe tbody tr th:only-of-type {\n",
       "        vertical-align: middle;\n",
       "    }\n",
       "\n",
       "    .dataframe tbody tr th {\n",
       "        vertical-align: top;\n",
       "    }\n",
       "\n",
       "    .dataframe thead th {\n",
       "        text-align: right;\n",
       "    }\n",
       "</style>\n",
       "<table border=\"1\" class=\"dataframe\">\n",
       "  <thead>\n",
       "    <tr style=\"text-align: right;\">\n",
       "      <th></th>\n",
       "      <th>artist</th>\n",
       "      <th>song</th>\n",
       "      <th>text</th>\n",
       "    </tr>\n",
       "  </thead>\n",
       "  <tbody>\n",
       "    <tr>\n",
       "      <th>138</th>\n",
       "      <td>Adele</td>\n",
       "      <td>I Miss You</td>\n",
       "      <td>[Verse 1]  \\r\\nI want every single piece of yo...</td>\n",
       "    </tr>\n",
       "    <tr>\n",
       "      <th>503</th>\n",
       "      <td>Alice Cooper</td>\n",
       "      <td>I Miss You</td>\n",
       "      <td>Touched by thoughts  \\r\\nAs cold as ice  \\r\\nL...</td>\n",
       "    </tr>\n",
       "    <tr>\n",
       "      <th>6143</th>\n",
       "      <td>Fleetwood Mac</td>\n",
       "      <td>I Miss You</td>\n",
       "      <td>When I think about you  \\r\\nI think about how ...</td>\n",
       "    </tr>\n",
       "    <tr>\n",
       "      <th>13119</th>\n",
       "      <td>Miley Cyrus</td>\n",
       "      <td>I Miss You</td>\n",
       "      <td>Sha la la la la, sha la la la la  \\r\\nYou used...</td>\n",
       "    </tr>\n",
       "    <tr>\n",
       "      <th>36672</th>\n",
       "      <td>Incubus</td>\n",
       "      <td>I Miss You</td>\n",
       "      <td>To see you when I wake up  \\r\\nIs a gift I did...</td>\n",
       "    </tr>\n",
       "  </tbody>\n",
       "</table>\n",
       "</div>"
      ],
      "text/plain": [
       "              artist        song   \n",
       "138            Adele  I Miss You  \\\n",
       "503     Alice Cooper  I Miss You   \n",
       "6143   Fleetwood Mac  I Miss You   \n",
       "13119    Miley Cyrus  I Miss You   \n",
       "36672        Incubus  I Miss You   \n",
       "\n",
       "                                                    text  \n",
       "138    [Verse 1]  \\r\\nI want every single piece of yo...  \n",
       "503    Touched by thoughts  \\r\\nAs cold as ice  \\r\\nL...  \n",
       "6143   When I think about you  \\r\\nI think about how ...  \n",
       "13119  Sha la la la la, sha la la la la  \\r\\nYou used...  \n",
       "36672  To see you when I wake up  \\r\\nIs a gift I did...  "
      ]
     },
     "execution_count": 67,
     "metadata": {},
     "output_type": "execute_result"
    }
   ],
   "source": [
    "df[df['song']=='I Miss You']"
   ]
  },
  {
   "cell_type": "code",
   "execution_count": 68,
   "id": "d522db00",
   "metadata": {},
   "outputs": [
    {
     "data": {
      "text/html": [
       "<div>\n",
       "<style scoped>\n",
       "    .dataframe tbody tr th:only-of-type {\n",
       "        vertical-align: middle;\n",
       "    }\n",
       "\n",
       "    .dataframe tbody tr th {\n",
       "        vertical-align: top;\n",
       "    }\n",
       "\n",
       "    .dataframe thead th {\n",
       "        text-align: right;\n",
       "    }\n",
       "</style>\n",
       "<table border=\"1\" class=\"dataframe\">\n",
       "  <thead>\n",
       "    <tr style=\"text-align: right;\">\n",
       "      <th></th>\n",
       "      <th>artist</th>\n",
       "      <th>song</th>\n",
       "      <th>text</th>\n",
       "    </tr>\n",
       "  </thead>\n",
       "  <tbody>\n",
       "    <tr>\n",
       "      <th>39082</th>\n",
       "      <td>Judy Garland</td>\n",
       "      <td>Look For The Silver Lining</td>\n",
       "      <td>As I wash my dishes, I'll be following a plan ...</td>\n",
       "    </tr>\n",
       "    <tr>\n",
       "      <th>52998</th>\n",
       "      <td>The Weeknd</td>\n",
       "      <td>Can't Feel My Face</td>\n",
       "      <td>[Verse 1]  \\r\\nAnd I know she'll be the death ...</td>\n",
       "    </tr>\n",
       "  </tbody>\n",
       "</table>\n",
       "</div>"
      ],
      "text/plain": [
       "             artist                        song   \n",
       "39082  Judy Garland  Look For The Silver Lining  \\\n",
       "52998    The Weeknd          Can't Feel My Face   \n",
       "\n",
       "                                                    text  \n",
       "39082  As I wash my dishes, I'll be following a plan ...  \n",
       "52998  [Verse 1]  \\r\\nAnd I know she'll be the death ...  "
      ]
     },
     "execution_count": 68,
     "metadata": {},
     "output_type": "execute_result"
    }
   ],
   "source": [
    "df[df.duplicated(subset=['artist','song'])]"
   ]
  },
  {
   "cell_type": "code",
   "execution_count": 69,
   "id": "be0a3fb4",
   "metadata": {},
   "outputs": [
    {
     "data": {
      "text/html": [
       "<div>\n",
       "<style scoped>\n",
       "    .dataframe tbody tr th:only-of-type {\n",
       "        vertical-align: middle;\n",
       "    }\n",
       "\n",
       "    .dataframe tbody tr th {\n",
       "        vertical-align: top;\n",
       "    }\n",
       "\n",
       "    .dataframe thead th {\n",
       "        text-align: right;\n",
       "    }\n",
       "</style>\n",
       "<table border=\"1\" class=\"dataframe\">\n",
       "  <thead>\n",
       "    <tr style=\"text-align: right;\">\n",
       "      <th></th>\n",
       "      <th>artist</th>\n",
       "      <th>song</th>\n",
       "      <th>text</th>\n",
       "    </tr>\n",
       "  </thead>\n",
       "  <tbody>\n",
       "  </tbody>\n",
       "</table>\n",
       "</div>"
      ],
      "text/plain": [
       "Empty DataFrame\n",
       "Columns: [artist, song, text]\n",
       "Index: []"
      ]
     },
     "execution_count": 69,
     "metadata": {},
     "output_type": "execute_result"
    }
   ],
   "source": [
    "df[(df['artist']=='judy garland') & (df['song']=='Look For The Silver Lining')]"
   ]
  },
  {
   "cell_type": "code",
   "execution_count": 70,
   "id": "bff7a88b",
   "metadata": {},
   "outputs": [
    {
     "data": {
      "text/plain": [
       "\"As I wash my dishes, I'll be following a plan  \\r\\nTill I see the brightness in every pot and pan  \\r\\nI am sure this point of view will ease the daily grind  \\r\\nSo I'll keep repeating in my mind  \\r\\nLook for the silver lining  \\r\\nWhenever a cloud appears in the blue  \\r\\nRemember somewhere the sun is shining  \\r\\nAnd so the right thing to do is make it shine for you  \\r\\nA heart full of joy and gladness  \\r\\nWill always banish sadness and strife  \\r\\nSo always look for the silver lining  \\r\\nAnd try to find the sunny side of life  \\r\\nSo always look for the silver lining  \\r\\nAnd try to find the sunny side of life  \\r\\n\\r\\n\""
      ]
     },
     "execution_count": 70,
     "metadata": {},
     "output_type": "execute_result"
    }
   ],
   "source": [
    "df.loc[39081,'text']"
   ]
  },
  {
   "cell_type": "code",
   "execution_count": 71,
   "id": "0decdd57",
   "metadata": {},
   "outputs": [
    {
     "data": {
      "text/plain": [
       "\"As I wash my dishes, I'll be following a plan  \\r\\nTill I see the brightness in every pot and pan  \\r\\nI am sure this point of view will ease the daily grind  \\r\\nSo I'll keep repeating in my mind  \\r\\n  \\r\\nLook for the silver lining  \\r\\nWhenever a cloud appears in the blue  \\r\\nRemember somewhere the sun is shining  \\r\\nAnd so the right thing to do is make it shine for you  \\r\\n  \\r\\nA heart full of joy and gladness  \\r\\nWill always banish sadness and strife  \\r\\nSo always look for the silver lining  \\r\\nAnd try to find the sunny side of life  \\r\\n  \\r\\nSo always look for the silver lining  \\r\\nAnd try to find the sunny side of life\\r\\n\\r\\n\""
      ]
     },
     "execution_count": 71,
     "metadata": {},
     "output_type": "execute_result"
    }
   ],
   "source": [
    "df.loc[39082,'text']"
   ]
  },
  {
   "cell_type": "code",
   "execution_count": 72,
   "id": "13ead69b",
   "metadata": {},
   "outputs": [],
   "source": [
    "df=df.drop_duplicates(subset=['artist','song'])"
   ]
  },
  {
   "cell_type": "code",
   "execution_count": 73,
   "id": "89f9a801",
   "metadata": {},
   "outputs": [],
   "source": [
    "df=df.sample(5000)"
   ]
  },
  {
   "cell_type": "code",
   "execution_count": 74,
   "id": "4c05d22b",
   "metadata": {},
   "outputs": [],
   "source": [
    "df=df.reset_index(drop=True)"
   ]
  },
  {
   "cell_type": "code",
   "execution_count": 75,
   "id": "7e1b5a39",
   "metadata": {},
   "outputs": [],
   "source": [
    "temp=df.copy()"
   ]
  },
  {
   "cell_type": "code",
   "execution_count": 76,
   "id": "72e3fff7",
   "metadata": {},
   "outputs": [],
   "source": [
    "### Preprocessing/Cleaning of the data"
   ]
  },
  {
   "cell_type": "code",
   "execution_count": 77,
   "id": "cb32aa96",
   "metadata": {},
   "outputs": [],
   "source": [
    "temp['text']=temp['text'].str.strip().str.lower().str.replace(r\"\\s+\", \" \",regex=True).str.replace(r\"\\\\[rn\\\\t]\",'',regex=True)"
   ]
  },
  {
   "cell_type": "code",
   "execution_count": 78,
   "id": "f579d4cf",
   "metadata": {},
   "outputs": [],
   "source": [
    "contr={\"i'm\": 'i am',\n",
    " \"i've\": 'i have',\n",
    " \"i'll\": 'i will',\n",
    " \"i'd\": 'i would',\n",
    " \"you're\": 'you are',\n",
    " \"you've\": 'you have',\n",
    " \"you'll\": 'you will',\n",
    " \"you'd\": 'you would',\n",
    " \"he's\": 'he is',\n",
    " \"he've\": 'he has',\n",
    " \"he'll\": 'he will',\n",
    " \"he'd\": 'he would',\n",
    " \"she's\": 'she is',\n",
    " \"she've\": 'she has',\n",
    " \"she'll\": 'she will',\n",
    " \"she'd\": 'she would',\n",
    " \"it's\": 'it is',\n",
    " \"it've\": 'it has',\n",
    " \"it'll\": 'it will',\n",
    " \"we're\": 'we are',\n",
    " \"we've\": 'we have',\n",
    " \"we'll\": 'we will',\n",
    " \"we'd\": 'we would',\n",
    " \"they're\": 'they are',\n",
    " \"they've\": 'they have',\n",
    " \"they'll\": 'they will',\n",
    " \"they'd\": 'they would',\n",
    " \"ain't\": 'are not',\n",
    " \"amn't\": 'am not',\n",
    " \"isn't\": 'is not',\n",
    " \"hasn't\": 'has not',\n",
    " \"haven't\": 'have not',\n",
    " \"can't\": 'cannot',\n",
    " \"couldn't\": 'could not',\n",
    " \"wouldn't\": 'would not',\n",
    " \"shan't\": 'shall not',\n",
    " \"shouldn't\": 'should not',\n",
    " \"hadn't\": 'had not',\n",
    " \"don't\": 'do not',\n",
    " \"doesn't\": 'does not',\n",
    " \"didn't\": 'did not',\n",
    " \"what's\": 'what is',\n",
    " \"where's\": 'where is',\n",
    " \"who's\": 'who is',\n",
    " \"that's\": 'that is',\n",
    " \"here's\": 'here is',\n",
    " \"let's\": 'let us',\n",
    " \"going'\": 'going to',\n",
    " \"having'\": 'having to',\n",
    " \"trying'\": 'trying to',\n",
    " \"wanting'\": 'wanting to',\n",
    " 'gotta': 'have to',\n",
    " 'gonna': 'going to',\n",
    " 'wanna': 'want to',\n",
    " 'shoulda': 'should have',\n",
    " 'coulda': 'could have',\n",
    " 'woulda': 'would have',\n",
    " \"might've\": 'might have',\n",
    " \"o'\": 'of',\n",
    " \"'em\": 'them',\n",
    " \"'emselves\": 'themselves',\n",
    " \"'cause\": 'because'}\n",
    "\n",
    "import re\n",
    "def expand_abbr(data):\n",
    "  for word in data.split(\" \"):\n",
    "    for key,value in contr.items():\n",
    "      data=re.sub(key,value,data)\n",
    "  return data"
   ]
  },
  {
   "cell_type": "code",
   "execution_count": 79,
   "id": "97df6fbd",
   "metadata": {},
   "outputs": [],
   "source": [
    "temp['text']=temp['text'].apply(expand_abbr)"
   ]
  },
  {
   "cell_type": "code",
   "execution_count": 80,
   "id": "8dd07304",
   "metadata": {},
   "outputs": [],
   "source": [
    "#removing punctuations\n",
    "temp['text']=temp['text'].str.replace(r\"[^\\w\\s]\",\"\",regex=True)"
   ]
  },
  {
   "cell_type": "code",
   "execution_count": 81,
   "id": "657a1997",
   "metadata": {},
   "outputs": [
    {
     "data": {
      "text/plain": [
       "'so she said what is the problem baby what is the problem i do not know well maybe i am in love love think about it every time i think about it cannot stop thinking bout it how much longer will it take to cure this just to cure it cause i cannot ignore it if it is love love makes me want to turn around and face me but i do not know nothing bout love come on come on turn a little faster come on come on the world will follow after come on come on because everybodys after love so i said i am a snowball running running down into the spring that is coming all this love melting under blue skies belting out sunlight shimmering love well baby i surrender to the strawberry ice cream never ever end of all this love well i did not mean to do it but there is no escaping your love these lines of lightning mean we are never alone never alone no no come on come on move a little closer come on come on i want to hear you whisper come on come on settle down inside my love come on come on jump a little higher come on come on if you feel a little lighter come on come on we were once upon a time in love we are accidentally in love accidentally in love accidentally in love accidentally in love accidentally in love accidentally in love accidentally in love accidentally in love accidentally i am in love i am in love i am in love i am in love i am in love i am in love accidentally i am in love i am in love i am in love i am in love i am in love i am in love accidentally come on come on spin a little tighter come on come on and the worlds a little brighter come on come on just get yourself inside her love i am in love'"
      ]
     },
     "execution_count": 81,
     "metadata": {},
     "output_type": "execute_result"
    }
   ],
   "source": [
    "temp['text'].iloc[0]"
   ]
  },
  {
   "cell_type": "code",
   "execution_count": 82,
   "id": "55091d03",
   "metadata": {},
   "outputs": [],
   "source": [
    "temp['artist']=temp['artist'].str.strip().str.lower().str.replace(r\"[^\\w\\s]\",\"\",regex=True).str.replace(\" \",\"\")"
   ]
  },
  {
   "cell_type": "code",
   "execution_count": 83,
   "id": "88d9fc35",
   "metadata": {},
   "outputs": [],
   "source": [
    "temp['song']=temp['song'].str.strip().str.lower().str.replace(r\"[^\\w\\s]\",\"\",regex=True)"
   ]
  },
  {
   "cell_type": "code",
   "execution_count": 84,
   "id": "419f20b0",
   "metadata": {},
   "outputs": [],
   "source": [
    "temp['combined']=temp['artist']+\" \"+temp['song']+\" \"+temp['text']"
   ]
  },
  {
   "cell_type": "code",
   "execution_count": 85,
   "id": "809f3629",
   "metadata": {},
   "outputs": [],
   "source": [
    "import nltk\n",
    "# nltk.download('stopwords')\n",
    "from nltk.corpus import stopwords\n",
    "stop_word=stopwords.words('english')"
   ]
  },
  {
   "cell_type": "code",
   "execution_count": 86,
   "id": "734c87fe",
   "metadata": {},
   "outputs": [],
   "source": [
    "temp['combined']=temp['combined'].str.lower()"
   ]
  },
  {
   "cell_type": "code",
   "execution_count": 87,
   "id": "ddf92e8f",
   "metadata": {},
   "outputs": [],
   "source": [
    "def remove_stopword(text):\n",
    "  l=[]\n",
    "  for i in text.split(\" \"):\n",
    "    if i not in stop_word:\n",
    "      l.append(i)\n",
    "    \n",
    "  return \" \".join(l)"
   ]
  },
  {
   "cell_type": "code",
   "execution_count": 88,
   "id": "1eceff88",
   "metadata": {},
   "outputs": [],
   "source": [
    "temp['combined']=temp['combined'].apply(remove_stopword)"
   ]
  },
  {
   "cell_type": "code",
   "execution_count": 89,
   "id": "33e8816e",
   "metadata": {},
   "outputs": [],
   "source": [
    "from nltk.stem.porter import PorterStemmer"
   ]
  },
  {
   "cell_type": "code",
   "execution_count": 90,
   "id": "a6ea45fd",
   "metadata": {},
   "outputs": [],
   "source": [
    "stemmer = PorterStemmer()"
   ]
  },
  {
   "cell_type": "code",
   "execution_count": 91,
   "id": "cd68927a",
   "metadata": {},
   "outputs": [],
   "source": [
    "def stem(txt):\n",
    "  l=[]\n",
    "  for i in txt.split(\" \"):\n",
    "    l.append(stemmer.stem(i))\n",
    "  return \" \".join(l)"
   ]
  },
  {
   "cell_type": "code",
   "execution_count": 92,
   "id": "5da4a468",
   "metadata": {},
   "outputs": [],
   "source": [
    "temp['combined']=temp['combined'].apply(stem)"
   ]
  },
  {
   "cell_type": "code",
   "execution_count": 93,
   "id": "9a39956e",
   "metadata": {},
   "outputs": [],
   "source": [
    "from sklearn.feature_extraction.text import TfidfVectorizer\n",
    "from sklearn.metrics.pairwise import cosine_similarity"
   ]
  },
  {
   "cell_type": "code",
   "execution_count": 94,
   "id": "e14e7e45",
   "metadata": {},
   "outputs": [],
   "source": [
    "tfid=TfidfVectorizer(analyzer='word',max_features = 10000,stop_words='english')"
   ]
  },
  {
   "cell_type": "code",
   "execution_count": 95,
   "id": "d23278f9",
   "metadata": {},
   "outputs": [],
   "source": [
    "tfv_matrix=tfid.fit_transform(temp[\"combined\"])"
   ]
  },
  {
   "cell_type": "code",
   "execution_count": 96,
   "id": "3db5a5d7",
   "metadata": {},
   "outputs": [
    {
     "data": {
      "text/plain": [
       "(5000, 10000)"
      ]
     },
     "execution_count": 96,
     "metadata": {},
     "output_type": "execute_result"
    }
   ],
   "source": [
    "tfv_matrix.toarray().shape"
   ]
  },
  {
   "cell_type": "code",
   "execution_count": 97,
   "id": "e0b6f5bd",
   "metadata": {},
   "outputs": [],
   "source": [
    "cosine_sim = cosine_similarity(tfv_matrix)"
   ]
  },
  {
   "cell_type": "code",
   "execution_count": 100,
   "id": "2a1aae98",
   "metadata": {},
   "outputs": [],
   "source": [
    "def recommended_songs(song_user_likes):\n",
    "    song_index = temp[temp.song == song_user_likes].index[0]\n",
    "    similar_song_sorted=sorted(list(enumerate(cosine_sim[song_index])),reverse=True,key=lambda x:x[1])[1:11]\n",
    "    \n",
    "    for song in similar_song_sorted:\n",
    "        similar_songs = df[df.index == song[0]][\"song\"].values[0]\n",
    "        print(similar_songs)\n"
   ]
  },
  {
   "cell_type": "code",
   "execution_count": 103,
   "id": "8b2a766b",
   "metadata": {},
   "outputs": [
    {
     "name": "stdout",
     "output_type": "stream",
     "text": [
      "Come Back To Me\n",
      "I Love All Of Me\n",
      "I Love, You Love\n",
      "For Your Love\n",
      "Here Comes My Baby\n",
      "Love Song\n",
      "Love Me\n",
      "Love Alone\n",
      "Love To Be Loved\n",
      "Did I Ever Tell You\n"
     ]
    }
   ],
   "source": [
    "recommended_songs('accidentally in love')"
   ]
  }
 ],
 "metadata": {
  "kernelspec": {
   "display_name": "Python 3 (ipykernel)",
   "language": "python",
   "name": "python3"
  },
  "language_info": {
   "codemirror_mode": {
    "name": "ipython",
    "version": 3
   },
   "file_extension": ".py",
   "mimetype": "text/x-python",
   "name": "python",
   "nbconvert_exporter": "python",
   "pygments_lexer": "ipython3",
   "version": "3.11.0"
  }
 },
 "nbformat": 4,
 "nbformat_minor": 5
}
